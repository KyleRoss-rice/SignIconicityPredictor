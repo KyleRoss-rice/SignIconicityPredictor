{
  "nbformat": 4,
  "nbformat_minor": 0,
  "metadata": {
    "colab": {
      "name": "Regression_Model.ipynb",
      "provenance": [],
      "collapsed_sections": [
        "GFvdW4xl9TYd",
        "5LtnJP5HBoiI"
      ],
      "include_colab_link": true
    },
    "kernelspec": {
      "name": "python3",
      "display_name": "Python 3"
    }
  },
  "cells": [
    {
      "cell_type": "markdown",
      "metadata": {
        "id": "view-in-github",
        "colab_type": "text"
      },
      "source": [
        "<a href=\"https://colab.research.google.com/github/KyleRoss-rice/SignIconicityPredictor/blob/main/regression_model.ipynb\" target=\"_parent\"><img src=\"https://colab.research.google.com/assets/colab-badge.svg\" alt=\"Open In Colab\"/></a>"
      ]
    },
    {
      "cell_type": "markdown",
      "metadata": {
        "id": "-CdE4dD54MLP"
      },
      "source": [
        "# **Welcome to our project!**"
      ]
    },
    {
      "cell_type": "markdown",
      "metadata": {
        "id": "Zd0Rz0sL4UAQ"
      },
      "source": [
        "## Import Python dependencies"
      ]
    },
    {
      "cell_type": "code",
      "metadata": {
        "id": "Dglz2q584aQm"
      },
      "source": [
        "import math\n",
        "import matplotlib.pyplot as plt\n",
        "import numpy as np\n",
        "import pandas as pd\n",
        "import seaborn as sns\n",
        "import missingno as msno\n",
        "import sklearn \n",
        "\n",
        "from google.colab import files\n",
        "from sklearn import kernel_ridge\n",
        "from sklearn import ensemble\n",
        "from sklearn import tree\n",
        "from sklearn import preprocessing \n",
        "from sklearn import feature_extraction\n",
        "from sklearn.model_selection import RandomizedSearchCV\n",
        "from sklearn import decomposition\n",
        "from sklearn import pipeline\n",
        "import scipy.stats as stats\n",
        "random_state = 0"
      ],
      "execution_count": null,
      "outputs": []
    },
    {
      "cell_type": "markdown",
      "metadata": {
        "id": "2sLErLAO4e6D"
      },
      "source": [
        "## Prepare the data"
      ]
    },
    {
      "cell_type": "code",
      "metadata": {
        "id": "doA0nhBz_bCe"
      },
      "source": [
        "X_train = pd.read_csv(\"regression_X_train.csv\")\n",
        "X_test = pd.read_csv(\"regression_X_test.csv\")\n",
        "y_train = pd.read_csv(\"regression_y_train.csv\")\n",
        "y_test = pd.read_csv(\"regression_y_test.csv\")\n"
      ],
      "execution_count": null,
      "outputs": []
    },
    {
      "cell_type": "markdown",
      "metadata": {
        "id": "v4pBslNc_tDp"
      },
      "source": [
        "### Dimensionality Reduction"
      ]
    },
    {
      "cell_type": "code",
      "metadata": {
        "id": "fEfVXu3U_0cQ"
      },
      "source": [
        "\n",
        "pca = sklearn.pipeline.make_pipeline(sklearn.preprocessing.StandardScaler(), sklearn.decomposition.PCA(n_components=50, random_state=random_state))\n",
        "pca.fit(X_train, y_train)\n",
        "\n",
        "\n",
        "X_train_pca = pca.transform(X_train)\n",
        "X_test_pca = pca.transform(X_test)"
      ],
      "execution_count": null,
      "outputs": []
    },
    {
      "cell_type": "markdown",
      "metadata": {
        "id": "zFuAyfDd_-9y"
      },
      "source": [
        "### Training SVR Model"
      ]
    },
    {
      "cell_type": "code",
      "metadata": {
        "id": "AYzP0gtfADlu"
      },
      "source": [
        "accuracy=[]\n",
        "train_acc=[]\n",
        "for components in range(10,74,2):\n",
        "  pca = sklearn.pipeline.make_pipeline(sklearn.preprocessing.StandardScaler(), sklearn.decomposition.PCA(n_components=components, random_state=random_state))\n",
        "  pca.fit(X_train, y_train)\n",
        "  X_train_pca = pca.transform(X_train)\n",
        "  X_test_pca = pca.transform(X_test)\n",
        "  clf = sklearn.svm.SVR(kernel='rbf')\n",
        "  svr=clf.fit(X_train_pca,np.array(y_train).reshape(len(X_train_pca),))\n",
        "  accuracy.append(clf.score(X_test_pca,y_test))\n",
        "  train_acc.append(clf.score(X_train_pca,y_train))\n",
        "  #print(f\"Scores for SVR Model RBF Kernel:\\n\")\n",
        "  #print(f\"Training Accuracy Score: {clf.score(X_train_pca, y_train)*100:.2f} %\")\n",
        "  #print(f\"Testing Accuracy Score: {accuracy*100:.2f}%\")\n"
      ],
      "execution_count": null,
      "outputs": []
    },
    {
      "cell_type": "code",
      "metadata": {
        "id": "ynRrq-V-7D70",
        "outputId": "5b00453c-365f-4ff8-db8b-c39884dac8ef",
        "colab": {
          "base_uri": "https://localhost:8080/",
          "height": 295
        }
      },
      "source": [
        "\n",
        "plt.plot(np.arange(10,74,2),accuracy)\n",
        "plt.plot(np.arange(10,74,2),train_acc)\n",
        "plt.title('Testing accuracy of SVR function in number of principle components')\n",
        "plt.xlabel(\"Number of principle components\")\n",
        "plt.ylabel(\"Accuracy\");"
      ],
      "execution_count": null,
      "outputs": [
        {
          "output_type": "display_data",
          "data": {
            "image/png": "[encoded data removed]",
            "text/plain": [
              "<Figure size 432x288 with 1 Axes>"
            ]
          },
          "metadata": {
            "tags": [],
            "needs_background": "light"
          }
        }
      ]
    },
    {
      "cell_type": "markdown",
      "metadata": {
        "id": "mMlv8dW7KNCL"
      },
      "source": [
        "### Training a Laplacian Ridge Kernel"
      ]
    },
    {
      "cell_type": "code",
      "metadata": {
        "id": "J29RlKx3KRD7",
        "outputId": "9b1b8281-cfc4-49b3-e9c4-0c4902071b53",
        "colab": {
          "base_uri": "https://localhost:8080/"
        }
      },
      "source": [
        "\n",
        "model = sklearn.kernel_ridge.KernelRidge(0.1, kernel='laplacian', gamma=0.005)\n",
        "laplacian = model.fit(X_train_pca, y_train)\n",
        "print(\"Scores for Laplacian Ridge Kernel:\\n\")\n",
        "print(f\"Training Accuracy: {model.score(X_train_pca, y_train)*100:.2f} %\")\n",
        "print(f\"Testing Accuracy: {model.score(X_test_pca, y_test)*100:.2f} %\")"
      ],
      "execution_count": null,
      "outputs": [
        {
          "output_type": "stream",
          "text": [
            "Scores for Laplacian Ridge Kernel:\n",
            "\n",
            "Training Accuracy: 86.86 %\n",
            "Testing Accuracy: 60.34 %\n"
          ],
          "name": "stdout"
        }
      ]
    },
    {
      "cell_type": "markdown",
      "metadata": {
        "id": "GFvdW4xl9TYd"
      },
      "source": [
        "### Training a Tree Regressor "
      ]
    },
    {
      "cell_type": "code",
      "metadata": {
        "id": "Sg1dzrpd9S1U",
        "outputId": "0895a6a7-8e2c-400f-ba3b-7ffd4e75967c",
        "colab": {
          "base_uri": "https://localhost:8080/"
        }
      },
      "source": [
        "clf_tree_regression = sklearn.tree.DecisionTreeRegressor(random_state=random_state)\n",
        "tree_reg= clf_tree_regression.fit(X_train_pca,y_train)\n",
        "print(\"Scores for Tree Regressor:\\n\")\n",
        "print(f\"Training Accuracy: {clf_tree_regression.score(X_train_pca, y_train)*100:.2f} %\")\n",
        "print(f\"Testing Accuracy: {clf_tree_regression.score(X_test_pca, y_test)*100:.2f} %\")"
      ],
      "execution_count": null,
      "outputs": [
        {
          "output_type": "stream",
          "text": [
            "Scores for Tree Regressor:\n",
            "\n",
            "Training Accuracy: 100.00 %\n",
            "Testing Accuracy: -15.67 %\n"
          ],
          "name": "stdout"
        }
      ]
    },
    {
      "cell_type": "markdown",
      "metadata": {
        "id": "5LtnJP5HBoiI"
      },
      "source": [
        "### Hyperparameter search and model selection"
      ]
    },
    {
      "cell_type": "code",
      "metadata": {
        "id": "w-YJtggnBuR7"
      },
      "source": [
        "param_distributions=dict(C=stats.reciprocal(1, 1000),gamma=stats.reciprocal(0.01, 10))\n",
        "RandomSearchCV=sklearn.model_selection.RandomizedSearchCV(clf,param_distributions,cv=3,n_iter=10,random_state=random_state,verbose=1)\n"
      ],
      "execution_count": null,
      "outputs": []
    },
    {
      "cell_type": "code",
      "metadata": {
        "id": "6hK7oKhTC9f2",
        "outputId": "08df14bb-1d59-4a4b-cf3b-49ae74373e77",
        "colab": {
          "base_uri": "https://localhost:8080/"
        }
      },
      "source": [
        "print(RandomSearchCV)"
      ],
      "execution_count": null,
      "outputs": [
        {
          "output_type": "stream",
          "text": [
            "RandomizedSearchCV(cv=3, error_score=nan,\n",
            "                   estimator=SVR(C=1.0, cache_size=200, coef0=0.0, degree=3,\n",
            "                                 epsilon=0.1, gamma='scale', kernel='rbf',\n",
            "                                 max_iter=-1, shrinking=True, tol=0.001,\n",
            "                                 verbose=False),\n",
            "                   iid='deprecated', n_iter=10, n_jobs=None,\n",
            "                   param_distributions={'C': <scipy.stats._distn_infrastructure.rv_frozen object at 0x7f998bac59b0>,\n",
            "                                        'gamma': <scipy.stats._distn_infrastructure.rv_frozen object at 0x7f998bbfacf8>},\n",
            "                   pre_dispatch='2*n_jobs', random_state=0, refit=True,\n",
            "                   return_train_score=False, scoring=None, verbose=1)\n"
          ],
          "name": "stdout"
        }
      ]
    },
    {
      "cell_type": "markdown",
      "metadata": {
        "id": "XOh71S_6EOvW"
      },
      "source": [
        "### Regression Metrics"
      ]
    },
    {
      "cell_type": "code",
      "metadata": {
        "id": "hTzhAtqFETJv",
        "outputId": "b3e3a358-e207-41e3-bb86-864f241492e2",
        "colab": {
          "base_uri": "https://localhost:8080/"
        }
      },
      "source": [
        "predictions = clf.predict(X_test_pca)\n",
        "(\"Metrics for evaluating the test data + model :-\")\n",
        "print(\"\")\n",
        "print(f\"Mean absolute error: {sklearn.metrics.mean_absolute_error(y_test,predictions):.1f}\")\n",
        "print(f\"Max error: {sklearn.metrics.max_error(y_test,predictions):.1f}\")\n",
        "print(f\"R2 score: {sklearn.metrics.r2_score(y_test,predictions):.2f}\")"
      ],
      "execution_count": null,
      "outputs": [
        {
          "output_type": "stream",
          "text": [
            "\n",
            "Mean absolute error: 0.8\n",
            "Max error: 3.5\n",
            "R2 score: 0.57\n"
          ],
          "name": "stdout"
        }
      ]
    },
    {
      "cell_type": "code",
      "metadata": {
        "id": "uLKJchX0rcpF",
        "outputId": "a34a7c69-ef5c-4d7c-8e67-8090a4f5a447",
        "colab": {
          "base_uri": "https://localhost:8080/",
          "height": 362
        }
      },
      "source": [
        "global mean, variance\n",
        "mean = sklearn.metrics.mean_absolute_error(y_test,predictions)\n",
        "variance = sklearn.metrics.explained_variance_score(y_test,predictions)\n",
        "print(f\"Mean absolute error: {mean:.2f}\")\n",
        "print(f\"Variance score: {variance:.2f}\") # best possible score is 1.0\n",
        "print(f\"Median absolute error: {sklearn.metrics.median_absolute_error(y_test,predictions):.2f}\")\n",
        "print(f\"Mean Gamma deviance: {sklearn.metrics.mean_tweedie_deviance(y_test,predictions,power=2):.2f}\") # The deviance when power=2 is thus only sensitive to relative errors.\n",
        "sigma=math.sqrt(variance)\n",
        "plt.figure()\n",
        "x = np.linspace(mean - 3*sigma, mean + 3*sigma, 100)\n",
        "plt.plot(x, stats.norm.pdf(x, mean, sigma))\n",
        "plt.plot(mean,stats.norm.pdf(mean, mean, sigma),'x')\n",
        "plt.plot([mean+sigma, mean-sigma],stats.norm.pdf([mean+sigma, mean-sigma], mean, sigma),'x')\n",
        "plt.title(\"MAE PDF\")\n",
        "plt.xlabel(\"MAE\")\n",
        "plt.ylabel(\"PDF\");"
      ],
      "execution_count": null,
      "outputs": [
        {
          "output_type": "stream",
          "text": [
            "Mean absolute error: 0.81\n",
            "Variance score: 0.57\n",
            "Median absolute error: 0.68\n",
            "Mean Gamma deviance: 0.11\n"
          ],
          "name": "stdout"
        },
        {
          "output_type": "display_data",
          "data": {
            "image/png": "[encoded data removed]",
            "text/plain": [
              "<Figure size 432x288 with 1 Axes>"
            ]
          },
          "metadata": {
            "tags": [],
            "needs_background": "light"
          }
        }
      ]
    },
    {
      "cell_type": "markdown",
      "metadata": {
        "id": "Xoc6QH4YMXbI"
      },
      "source": [
        "### Less Strict Accuracy Measure "
      ]
    },
    {
      "cell_type": "code",
      "metadata": {
        "id": "TTh2F6xYMcz4"
      },
      "source": [
        "def measure_accuracy(iconicity_ratings,ground_truths):\n",
        "  iconicity_ratings = np.array(iconicity_ratings)\n",
        "  ground_truths = np.array(ground_truths)\n",
        "  error=0\n",
        "  for i in range(len(iconicity_ratings)):\n",
        "    abs_error = abs(ground_truths[i]-iconicity_ratings[i])\n",
        "    if 0<=abs_error<=mean+np.sqrt(variance) :\n",
        "      error=error\n",
        "    else:\n",
        "      error=error+1\n",
        "\n",
        "  error_rate= error/len(ground_truths)\n",
        "  return 1-error_rate "
      ],
      "execution_count": null,
      "outputs": []
    },
    {
      "cell_type": "code",
      "metadata": {
        "id": "57szHAevOxXP",
        "outputId": "9ca2a1f3-ea2c-4a1d-e362-2fb2af6d9c81",
        "colab": {
          "base_uri": "https://localhost:8080/"
        }
      },
      "source": [
        "\n",
        "print(\"Accuracy Measures for SVR Model: \\n\")\n",
        "print(f\"Training Accuracy Measure for a tolerance of {mean:.3f} +- {np.sqrt(variance):.3f} {measure_accuracy(svr.predict(X_train_pca),y_train)*100:.3f}%\")\n",
        "print(f\"Testing Accuracy Measure for a tolerance of {mean:.3f} +- {np.sqrt(variance):.3f} {measure_accuracy(svr.predict(X_test_pca),y_test)*100:.3f}%\\n\")\n",
        "\n",
        "print(\"Accuracy Measures for Laplacian Ridge Kernel: \\n\")\n",
        "print(f\"Training Accuracy Measure for a tolerance of {mean:.3f} +- {np.sqrt(variance):.3f} {measure_accuracy(laplacian.predict(X_train_pca),y_train)*100:.3f}%\")\n",
        "print(f\"Testing Accuracy Measure for a tolerance of {mean:.3f} +- {np.sqrt(variance):.3f} {measure_accuracy(laplacian.predict(X_test_pca),y_test)*100:.3f}%\")\n",
        "\n"
      ],
      "execution_count": null,
      "outputs": [
        {
          "output_type": "stream",
          "text": [
            "Accuracy Measures for SVR Model: \n",
            "\n",
            "Training Accuracy Measure for a tolerance of 0.811 +- 0.756 93.033%\n",
            "Testing Accuracy Measure for a tolerance of 0.811 +- 0.756 88.956%\n",
            "\n",
            "Accuracy Measures for Laplacian Ridge Kernel: \n",
            "\n",
            "Training Accuracy Measure for a tolerance of 0.811 +- 0.756 98.596%\n",
            "Testing Accuracy Measure for a tolerance of 0.811 +- 0.756 90.763%\n"
          ],
          "name": "stdout"
        }
      ]
    }
  ]
}