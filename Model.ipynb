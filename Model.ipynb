{
  "nbformat": 4,
  "nbformat_minor": 0,
  "metadata": {
    "colab": {
      "name": "Model.ipynb",
      "provenance": [],
      "authorship_tag": "ABX9TyPWE/g7ehrKLU0TkNg6dV7/",
      "include_colab_link": true
    },
    "kernelspec": {
      "name": "python3",
      "display_name": "Python 3"
    }
  },
  "cells": [
    {
      "cell_type": "markdown",
      "metadata": {
        "id": "view-in-github",
        "colab_type": "text"
      },
      "source": [
        "<a href=\"https://colab.research.google.com/github/KyleRoss-rice/SignIconicityPredictor/blob/main/Model.ipynb\" target=\"_parent\"><img src=\"https://colab.research.google.com/assets/colab-badge.svg\" alt=\"Open In Colab\"/></a>"
      ]
    },
    {
      "cell_type": "markdown",
      "metadata": {
        "id": "-CdE4dD54MLP"
      },
      "source": [
        "# **Welcome to our project!**"
      ]
    },
    {
      "cell_type": "markdown",
      "metadata": {
        "id": "Zd0Rz0sL4UAQ"
      },
      "source": [
        "## Import Python dependencies"
      ]
    },
    {
      "cell_type": "code",
      "metadata": {
        "id": "Dglz2q584aQm"
      },
      "source": [
        "import numpy as np"
      ],
      "execution_count": null,
      "outputs": []
    },
    {
      "cell_type": "markdown",
      "metadata": {
        "id": "2sLErLAO4e6D"
      },
      "source": [
        "## Prepare the data"
      ]
    }
  ]
}