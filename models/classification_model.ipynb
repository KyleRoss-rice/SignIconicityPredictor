{
  "nbformat": 4,
  "nbformat_minor": 0,
  "metadata": {
    "colab": {
      "name": "classification_model.ipynb",
      "provenance": [],
      "collapsed_sections": [],
      "include_colab_link": true
    },
    "kernelspec": {
      "name": "python3",
      "display_name": "Python 3"
    }
  },
  "cells": [
    {
      "cell_type": "markdown",
      "metadata": {
        "id": "view-in-github",
        "colab_type": "text"
      },
      "source": [
        "<a href=\"https://colab.research.google.com/github/KyleRoss-rice/SignIconicityPredictor/blob/main/models/classification_model.ipynb\" target=\"_parent\"><img src=\"https://colab.research.google.com/assets/colab-badge.svg\" alt=\"Open In Colab\"/></a>"
      ]
    },
    {
      "cell_type": "markdown",
      "metadata": {
        "id": "Zd0Rz0sL4UAQ"
      },
      "source": [
        "## Import Libraries\n"
      ]
    },
    {
      "cell_type": "code",
      "metadata": {
        "id": "Dglz2q584aQm"
      },
      "source": [
        "import math\n",
        "import matplotlib.pyplot as plt\n",
        "import numpy as np\n",
        "import pandas as pd\n",
        "import torch\n",
        "from google.colab import files\n",
        "\n",
        "import sklearn \n",
        "from sklearn import ensemble\n",
        "from sklearn import preprocessing \n",
        "from sklearn.model_selection import RandomizedSearchCV\n",
        "from sklearn.metrics import mean_absolute_error\n",
        "\n",
        "state = 0"
      ],
      "execution_count": null,
      "outputs": []
    },
    {
      "cell_type": "markdown",
      "metadata": {
        "id": "DagoUFqK9ozt"
      },
      "source": [
        "## Fetch Regression Data"
      ]
    },
    {
      "cell_type": "code",
      "metadata": {
        "id": "Oc5jL52595BD",
        "colab": {
          "base_uri": "https://localhost:8080/"
        },
        "outputId": "54f84a98-f086-4510-92b6-ce647966d005"
      },
      "source": [
        "!wget -c https://raw.githubusercontent.com/KyleRoss-rice/SignIconicityPredictor/main/data/classification_data/classification_X_train.csv\n",
        "!wget -c https://raw.githubusercontent.com/KyleRoss-rice/SignIconicityPredictor/main/data/classification_data/classification_X_test.csv\n",
        "!wget -c https://raw.githubusercontent.com/KyleRoss-rice/SignIconicityPredictor/main/data/classification_data/classification_y_train.csv\n",
        "!wget -c https://raw.githubusercontent.com/KyleRoss-rice/SignIconicityPredictor/main/data/classification_data/classification_y_test.csv"
      ],
      "execution_count": null,
      "outputs": [
        {
          "output_type": "stream",
          "text": [
            "--2020-11-16 04:23:25--  https://raw.githubusercontent.com/KyleRoss-rice/SignIconicityPredictor/main/data/classification_data/classification_X_train.csv\n",
            "Resolving raw.githubusercontent.com (raw.githubusercontent.com)... 151.101.0.133, 151.101.64.133, 151.101.128.133, ...\n",
            "Connecting to raw.githubusercontent.com (raw.githubusercontent.com)|151.101.0.133|:443... connected.\n",
            "HTTP request sent, awaiting response... 200 OK\n",
            "Length: 2566552 (2.4M) [text/plain]\n",
            "Saving to: ‘classification_X_train.csv’\n",
            "\n",
            "classification_X_tr 100%[===================>]   2.45M  --.-KB/s    in 0.1s    \n",
            "\n",
            "2020-11-16 04:23:25 (21.9 MB/s) - ‘classification_X_train.csv’ saved [2566552/2566552]\n",
            "\n",
            "--2020-11-16 04:23:25--  https://raw.githubusercontent.com/KyleRoss-rice/SignIconicityPredictor/main/data/classification_data/classification_X_test.csv\n",
            "Resolving raw.githubusercontent.com (raw.githubusercontent.com)... 151.101.0.133, 151.101.64.133, 151.101.128.133, ...\n",
            "Connecting to raw.githubusercontent.com (raw.githubusercontent.com)|151.101.0.133|:443... connected.\n",
            "HTTP request sent, awaiting response... 200 OK\n",
            "Length: 643402 (628K) [text/plain]\n",
            "Saving to: ‘classification_X_test.csv’\n",
            "\n",
            "classification_X_te 100%[===================>] 628.32K  --.-KB/s    in 0.05s   \n",
            "\n",
            "2020-11-16 04:23:26 (13.5 MB/s) - ‘classification_X_test.csv’ saved [643402/643402]\n",
            "\n",
            "--2020-11-16 04:23:26--  https://raw.githubusercontent.com/KyleRoss-rice/SignIconicityPredictor/main/data/classification_data/classification_y_train.csv\n",
            "Resolving raw.githubusercontent.com (raw.githubusercontent.com)... 151.101.0.133, 151.101.64.133, 151.101.128.133, ...\n",
            "Connecting to raw.githubusercontent.com (raw.githubusercontent.com)|151.101.0.133|:443... connected.\n",
            "HTTP request sent, awaiting response... 200 OK\n",
            "Length: 36100 (35K) [text/plain]\n",
            "Saving to: ‘classification_y_train.csv’\n",
            "\n",
            "classification_y_tr 100%[===================>]  35.25K  --.-KB/s    in 0.003s  \n",
            "\n",
            "2020-11-16 04:23:26 (11.7 MB/s) - ‘classification_y_train.csv’ saved [36100/36100]\n",
            "\n",
            "--2020-11-16 04:23:26--  https://raw.githubusercontent.com/KyleRoss-rice/SignIconicityPredictor/main/data/classification_data/classification_y_test.csv\n",
            "Resolving raw.githubusercontent.com (raw.githubusercontent.com)... 151.101.0.133, 151.101.64.133, 151.101.128.133, ...\n",
            "Connecting to raw.githubusercontent.com (raw.githubusercontent.com)|151.101.0.133|:443... connected.\n",
            "HTTP request sent, awaiting response... 200 OK\n",
            "Length: 9050 (8.8K) [text/plain]\n",
            "Saving to: ‘classification_y_test.csv’\n",
            "\n",
            "classification_y_te 100%[===================>]   8.84K  --.-KB/s    in 0s      \n",
            "\n",
            "2020-11-16 04:23:26 (84.7 MB/s) - ‘classification_y_test.csv’ saved [9050/9050]\n",
            "\n"
          ],
          "name": "stdout"
        }
      ]
    },
    {
      "cell_type": "markdown",
      "metadata": {
        "id": "2sLErLAO4e6D"
      },
      "source": [
        "## Create DataFrames"
      ]
    },
    {
      "cell_type": "code",
      "metadata": {
        "id": "doA0nhBz_bCe"
      },
      "source": [
        "X_train = pd.read_csv(\"classification_X_train.csv\")\n",
        "X_test = pd.read_csv(\"classification_X_test.csv\")\n",
        "\n",
        "y_train = np.array(pd.read_csv(\"classification_y_train.csv\")).reshape(-1).astype('int32')\n",
        "y_test = np.array(pd.read_csv(\"classification_y_test.csv\")).reshape(-1).astype('int32')\n",
        "\n",
        "#Remove sign IDs in the first column\n",
        "X_train_ID = X_train.columns[0]\n",
        "X_test_ID = X_test.columns[0]\n",
        "X_train.drop(X_train.columns[0], axis=1, inplace=True)\n",
        "X_test.drop(X_test.columns[0], axis=1, inplace=True)\n",
        "X_train = sklearn.preprocessing.StandardScaler().fit_transform(X_train) \n",
        "X_test = sklearn.preprocessing.StandardScaler().fit_transform(X_test) "
      ],
      "execution_count": null,
      "outputs": []
    },
    {
      "cell_type": "code",
      "metadata": {
        "id": "DZH06FiCPKfg",
        "colab": {
          "base_uri": "https://localhost:8080/"
        },
        "outputId": "38e370ce-8d4e-40aa-ff3d-53d945f9ff9e"
      },
      "source": [
        "model = sklearn.svm.SVC().fit(X_train, y_train)\n",
        "print(model.score(X_train, y_train))\n",
        "print(model.score(X_test, y_test))\n",
        "\n",
        "\n",
        "model = sklearn.ensemble.RandomForestClassifier().fit(X_train, y_train)\n",
        "print(model.score(X_train, y_train))\n",
        "print(model.score(X_test, y_test))\n",
        "\n",
        "model = sklearn.ensemble.AdaBoostClassifier().fit(X_train, y_train)\n",
        "print(model.score(X_train, y_train))\n",
        "print(model.score(X_test, y_test))"
      ],
      "execution_count": null,
      "outputs": [
        {
          "output_type": "stream",
          "text": [
            "0.7976437976437977\n",
            "0.8282548476454293\n",
            "1.0\n",
            "0.817174515235457\n",
            "0.7373527373527373\n",
            "0.7590027700831025\n"
          ],
          "name": "stdout"
        }
      ]
    }
  ]
}