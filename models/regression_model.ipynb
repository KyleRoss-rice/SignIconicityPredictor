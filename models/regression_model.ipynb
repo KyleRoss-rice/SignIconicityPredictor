{
  "nbformat": 4,
  "nbformat_minor": 0,
  "metadata": {
    "colab": {
      "name": "regression_model_Final.ipynb",
      "provenance": [],
      "collapsed_sections": []
    },
    "kernelspec": {
      "display_name": "Python 3",
      "name": "python3"
    },
    "accelerator": "GPU"
  },
  "cells": [
    {
      "cell_type": "markdown",
      "metadata": {
        "id": "Zd0Rz0sL4UAQ"
      },
      "source": [
        "## Import Libraries\n"
      ]
    },
    {
      "cell_type": "code",
      "metadata": {
        "id": "Dglz2q584aQm"
      },
      "source": [
        "import math\n",
        "import matplotlib.pyplot as plt\n",
        "import numpy as np\n",
        "import pandas as pd\n",
        "import torch\n",
        "import time\n",
        "from google.colab import files\n",
        "\n",
        "import sklearn \n",
        "from sklearn import kernel_ridge\n",
        "from sklearn import ensemble\n",
        "from sklearn import tree\n",
        "from sklearn import preprocessing \n",
        "from sklearn import feature_extraction\n",
        "from sklearn.model_selection import RandomizedSearchCV\n",
        "from sklearn import decomposition\n",
        "from sklearn import pipeline\n",
        "from sklearn.metrics import mean_absolute_error\n",
        "from sklearn import neural_network\n",
        "import scipy.stats as stats\n"
      ],
      "execution_count": 3,
      "outputs": []
    },
    {
      "cell_type": "markdown",
      "metadata": {
        "id": "DagoUFqK9ozt"
      },
      "source": [
        "## Fetch Regression Data from our GitHub repository"
      ]
    },
    {
      "cell_type": "code",
      "metadata": {
        "id": "Oc5jL52595BD",
        "colab": {
          "base_uri": "https://localhost:8080/"
        },
        "outputId": "709e5aaa-0d67-48e2-d79a-846360b2df33"
      },
      "source": [
        "!wget -c https://raw.githubusercontent.com/KyleRoss-rice/SignIconicityPredictor/main/data/regression_data/regression_X_train.csv\n",
        "!wget -c https://raw.githubusercontent.com/KyleRoss-rice/SignIconicityPredictor/main/data/regression_data/regression_X_test.csv\n",
        "!wget -c https://raw.githubusercontent.com/KyleRoss-rice/SignIconicityPredictor/main/data/regression_data/regression_y_train.csv\n",
        "!wget -c https://raw.githubusercontent.com/KyleRoss-rice/SignIconicityPredictor/main/data/regression_data/regression_y_test.csv"
      ],
      "execution_count": 4,
      "outputs": [
        {
          "output_type": "stream",
          "text": [
            "--2020-12-01 21:52:53--  https://raw.githubusercontent.com/KyleRoss-rice/SignIconicityPredictor/main/data/regression_data/regression_X_train.csv\n",
            "Resolving raw.githubusercontent.com (raw.githubusercontent.com)... 151.101.0.133, 151.101.64.133, 151.101.128.133, ...\n",
            "Connecting to raw.githubusercontent.com (raw.githubusercontent.com)|151.101.0.133|:443... connected.\n",
            "HTTP request sent, awaiting response... 200 OK\n",
            "Length: 710356 (694K) [text/plain]\n",
            "Saving to: ‘regression_X_train.csv’\n",
            "\n",
            "regression_X_train. 100%[===================>] 693.71K  --.-KB/s    in 0.03s   \n",
            "\n",
            "2020-12-01 21:52:54 (25.1 MB/s) - ‘regression_X_train.csv’ saved [710356/710356]\n",
            "\n",
            "--2020-12-01 21:52:54--  https://raw.githubusercontent.com/KyleRoss-rice/SignIconicityPredictor/main/data/regression_data/regression_X_test.csv\n",
            "Resolving raw.githubusercontent.com (raw.githubusercontent.com)... 151.101.0.133, 151.101.64.133, 151.101.128.133, ...\n",
            "Connecting to raw.githubusercontent.com (raw.githubusercontent.com)|151.101.0.133|:443... connected.\n",
            "HTTP request sent, awaiting response... 200 OK\n",
            "Length: 178886 (175K) [text/plain]\n",
            "Saving to: ‘regression_X_test.csv’\n",
            "\n",
            "regression_X_test.c 100%[===================>] 174.69K  --.-KB/s    in 0.01s   \n",
            "\n",
            "2020-12-01 21:52:54 (11.6 MB/s) - ‘regression_X_test.csv’ saved [178886/178886]\n",
            "\n",
            "--2020-12-01 21:52:54--  https://raw.githubusercontent.com/KyleRoss-rice/SignIconicityPredictor/main/data/regression_data/regression_y_train.csv\n",
            "Resolving raw.githubusercontent.com (raw.githubusercontent.com)... 151.101.0.133, 151.101.64.133, 151.101.128.133, ...\n",
            "Connecting to raw.githubusercontent.com (raw.githubusercontent.com)|151.101.0.133|:443... connected.\n",
            "HTTP request sent, awaiting response... 200 OK\n",
            "Length: 22697 (22K) [text/plain]\n",
            "Saving to: ‘regression_y_train.csv’\n",
            "\n",
            "regression_y_train. 100%[===================>]  22.17K  --.-KB/s    in 0.001s  \n",
            "\n",
            "2020-12-01 21:52:55 (35.1 MB/s) - ‘regression_y_train.csv’ saved [22697/22697]\n",
            "\n",
            "--2020-12-01 21:52:55--  https://raw.githubusercontent.com/KyleRoss-rice/SignIconicityPredictor/main/data/regression_data/regression_y_test.csv\n",
            "Resolving raw.githubusercontent.com (raw.githubusercontent.com)... 151.101.0.133, 151.101.64.133, 151.101.128.133, ...\n",
            "Connecting to raw.githubusercontent.com (raw.githubusercontent.com)|151.101.0.133|:443... connected.\n",
            "HTTP request sent, awaiting response... 200 OK\n",
            "Length: 5727 (5.6K) [text/plain]\n",
            "Saving to: ‘regression_y_test.csv’\n",
            "\n",
            "regression_y_test.c 100%[===================>]   5.59K  --.-KB/s    in 0s      \n",
            "\n",
            "2020-12-01 21:52:55 (78.7 MB/s) - ‘regression_y_test.csv’ saved [5727/5727]\n",
            "\n"
          ],
          "name": "stdout"
        }
      ]
    },
    {
      "cell_type": "markdown",
      "metadata": {
        "id": "2sLErLAO4e6D"
      },
      "source": [
        "## Create working datasets"
      ]
    },
    {
      "cell_type": "markdown",
      "metadata": {
        "id": "r-5t1Wj5uPw9"
      },
      "source": [
        "### Create ndarrays from csv files"
      ]
    },
    {
      "cell_type": "code",
      "metadata": {
        "id": "doA0nhBz_bCe"
      },
      "source": [
        "X_train_source = np.loadtxt(\"regression_X_train.csv\", skiprows=1, delimiter=',').astype('float32')\n",
        "X_test_source = np.loadtxt(\"regression_X_test.csv\", skiprows=1, delimiter=',').astype('float32')\n",
        "\n",
        "y_train_source = np.loadtxt(\"regression_y_train.csv\", skiprows=1, delimiter=',').astype('float32')\n",
        "y_test_source = np.loadtxt(\"regression_y_test.csv\", skiprows=1, delimiter=',').astype('float32')"
      ],
      "execution_count": 5,
      "outputs": []
    },
    {
      "cell_type": "code",
      "metadata": {
        "id": "AC2uPeAZu5gV"
      },
      "source": [
        "random_state = 0\n",
        "X_train, X_validation, y_train, y_validation = sklearn.model_selection.train_test_split(X_train_source, y_train_source, test_size=0.2)\n",
        "\n",
        "X_train_ID = X_train[:,0]\n",
        "X_validation_ID = X_validation[:,0]\n",
        "X_test_ID = X_test_source[:,0]\n",
        "\n",
        "X_train = X_train[:,1:]\n",
        "X_validation = X_validation[:,1:]\n",
        "X_test = X_test_source[:,1:]\n",
        "\n",
        "y_train_SD = y_train[:,1]\n",
        "y_validation_SD = y_validation[:,1]\n",
        "y_test_SD = y_test_source[:,1]\n",
        "y_train = y_train[:,0]\n",
        "y_validation = y_validation[:,0]\n",
        "y_test = y_test_source[:,0]"
      ],
      "execution_count": 6,
      "outputs": []
    },
    {
      "cell_type": "markdown",
      "metadata": {
        "id": "uBUlLi5KudqW"
      },
      "source": [
        "### Preprocess the input data"
      ]
    },
    {
      "cell_type": "code",
      "metadata": {
        "id": "jNg0-aLMuMO4"
      },
      "source": [
        "X_train = sklearn.preprocessing.StandardScaler().fit_transform(X_train) \n",
        "X_validation = sklearn.preprocessing.StandardScaler().fit_transform(X_validation) \n",
        "X_test = sklearn.preprocessing.StandardScaler().fit_transform(X_test) "
      ],
      "execution_count": 7,
      "outputs": []
    },
    {
      "cell_type": "markdown",
      "metadata": {
        "id": "MQ3_zwlezp0U"
      },
      "source": [
        "## Sanity check with a dummy regressor"
      ]
    },
    {
      "cell_type": "code",
      "metadata": {
        "id": "eRWEBLXLzsPL",
        "colab": {
          "base_uri": "https://localhost:8080/"
        },
        "outputId": "f80cea8c-096f-40d4-e2ed-9d4c015aef48"
      },
      "source": [
        "dummy_model = sklearn.dummy.DummyRegressor(strategy='mean').fit(X_train, y_train)\n",
        "dummy_score = dummy_model.score(X_validation, y_validation);\n",
        "np.testing.assert_almost_equal(dummy_score, 0, decimal=3)\n",
        "print(f'Dummy score for the mean is {dummy_score}; It is close enough to desired value of 0')"
      ],
      "execution_count": 8,
      "outputs": [
        {
          "output_type": "stream",
          "text": [
            "Dummy score for the mean is -0.00021211984237790027; It is close enough to desired value of 0\n"
          ],
          "name": "stdout"
        }
      ]
    },
    {
      "cell_type": "markdown",
      "metadata": {
        "id": "zMtP01DfRQ1q"
      },
      "source": [
        "## Custom scoring function"
      ]
    },
    {
      "cell_type": "code",
      "metadata": {
        "id": "kSyGyLOyNjOr"
      },
      "source": [
        "def score_within_sd(predictions, gt_ir, gt_ir_sd):\n",
        "  distances = abs(predictions - gt_ir) \n",
        "  n_errors = np.count_nonzero(distances > gt_ir_sd)\n",
        "\n",
        "  return 1 - n_errors / len(predictions)"
      ],
      "execution_count": 9,
      "outputs": []
    },
    {
      "cell_type": "code",
      "metadata": {
        "id": "d5foy1Q2yjxL"
      },
      "source": [
        "scoring_methods = ('MAE Train', 'MAE Val', 'MSE Train', 'MSE Val', 'R2 Train', 'R2 Val', 'Custom Train', 'Custom Val')\n",
        "scoring_titles = ('Best MAE Train', 'Best MAE Val', 'Best MSE Train', 'Best MSE Val', 'Best R2 Train', 'Best R2 Val', 'Best Custom Train', 'Best Custom Val')\n",
        "\n",
        "##TODO: This function is ugly and doesn't scale nicely to adding new scores\n",
        "def get_scores(models, model_names):\n",
        "  scores = []\n",
        "  names = [None] * len(scoring_methods)\n",
        "  best_mae_train = math.inf\n",
        "  best_mae_test = math.inf\n",
        "  best_mse_train = math.inf\n",
        "  best_mse_test = math.inf\n",
        "  best_r2_train = -math.inf\n",
        "  best_r2_test = -math.inf\n",
        "  best_custom_train = 0\n",
        "  best_custom_test = 0\n",
        "\n",
        "  for i, m in enumerate(models):\n",
        "    predictions_train = m.predict(X_train_pca)\n",
        "    predictions_test = m.predict(X_validation_pca)\n",
        "\n",
        "    mae_train = sklearn.metrics.mean_absolute_error(y_train, predictions_train)\n",
        "    if mae_train < best_mae_train:\n",
        "      best_mae_train = mae_train\n",
        "      names[0] = model_names[i]\n",
        "\n",
        "    mae_test = sklearn.metrics.mean_absolute_error(y_validation, predictions_test)\n",
        "    if mae_test < best_mae_test:\n",
        "      best_mae_test = mae_test\n",
        "      names[1] = model_names[i]\n",
        "\n",
        "    mse_train = sklearn.metrics.mean_squared_error(y_train, predictions_train)\n",
        "    if mse_train < best_mse_train:\n",
        "      best_mse_train = mse_train\n",
        "      names[2] = model_names[i]\n",
        "\n",
        "    mse_test = sklearn.metrics.mean_squared_error(y_validation, predictions_test)\n",
        "    if mse_test < best_mse_test:\n",
        "      best_mse_test = mse_test\n",
        "      names[3] = model_names[i]\n",
        "\n",
        "    r2_train = sklearn.metrics.r2_score(y_train, predictions_train)\n",
        "    if r2_train > best_r2_train:\n",
        "      best_r2_train = r2_train\n",
        "      names[4] = model_names[i]\n",
        "\n",
        "    r2_test = sklearn.metrics.r2_score(y_validation, predictions_test)\n",
        "    if r2_test > best_r2_test:\n",
        "      best_r2_test = r2_test\n",
        "      names[5] = model_names[i]\n",
        "\n",
        "    custom_train = score_within_sd(predictions_train, y_train, y_train_SD)\n",
        "    if custom_train > best_custom_train:\n",
        "      best_custom_train = custom_train\n",
        "      names[6] = model_names[i]\n",
        "\n",
        "    custom_test = score_within_sd(predictions_test, y_validation, y_validation_SD)\n",
        "    if custom_test > best_custom_test:\n",
        "      best_custom_test = custom_test \n",
        "      names[7] = model_names[i]\n",
        "    \n",
        "    scores.append((mae_train, mae_test, mse_train, mse_test, r2_train, r2_test, custom_train, custom_test))\n",
        "\n",
        "  return scores, ((names[0], best_mae_train),\n",
        "                  (names[1], best_mae_test),\n",
        "                  (names[2], best_mse_train),\n",
        "                  (names[3], best_mse_test),\n",
        "                  (names[4], best_r2_train),\n",
        "                  (names[5], best_r2_test),\n",
        "                  (names[6], best_custom_train),\n",
        "                  (names[7], best_custom_test))"
      ],
      "execution_count": 10,
      "outputs": []
    },
    {
      "cell_type": "markdown",
      "metadata": {
        "id": "JbE6ffjxhUwC"
      },
      "source": [
        "## PCA\n",
        "Based on https://www.mikulskibartosz.name/pca-how-to-choose-the-number-of-components/"
      ]
    },
    {
      "cell_type": "code",
      "metadata": {
        "id": "vZr4ComZhT99"
      },
      "source": [
        "explained_variance_targets = (0.95, 0.99)\n",
        "pcas = []\n",
        "\n",
        "for e in explained_variance_targets:\n",
        "  pcas.append(sklearn.decomposition.PCA(e, random_state=random_state).fit(X_train))"
      ],
      "execution_count": 11,
      "outputs": []
    },
    {
      "cell_type": "code",
      "metadata": {
        "id": "9CoYdMkzl59t",
        "colab": {
          "base_uri": "https://localhost:8080/",
          "height": 580
        },
        "outputId": "73662586-9062-4168-a1b9-00ae2d9bc2f7"
      },
      "source": [
        "pca = pcas[-1]\n",
        "explained_variance_ratio = pca.explained_variance_ratio_\n",
        "n_pca_components = len(pca.components_)\n",
        "\n",
        "plt.figure(figsize=(n_pca_components / 3.5, 10))\n",
        "x = np.arange(0, n_pca_components, step=1)\n",
        "y = np.cumsum(explained_variance_ratio)\n",
        "\n",
        "plt.ylim(0,1.1)\n",
        "plt.plot(x, y, marker='o', linestyle='--', color='b')\n",
        "\n",
        "plt.xlabel('Number of Components')\n",
        "plt.xticks(np.arange(0, n_pca_components, step=2)) #change from 0-based array index to 1-based human-readable label\n",
        "plt.ylabel('Cumulative Variance (%)')\n",
        "plt.title('Number of Components to Explained Variance')\n",
        "\n",
        "plt.axhline(y=0.95, color='r', linestyle='-')\n",
        "plt.text(0.5, 0.89, '95% cut-off threshold', color = 'r', fontsize=16)\n",
        "plt.axhline(y=0.99, color='g', linestyle='-')\n",
        "plt.text(0.5, 1.02, '99% cut-off threshold', color = 'g', fontsize=16)\n",
        "\n",
        "plt.grid(axis='x')"
      ],
      "execution_count": 12,
      "outputs": [
        {
          "output_type": "display_data",
          "data": {
            "image/png": "[encoded data removed]",
            "text/plain": [
              "<Figure size 2180.57x720 with 1 Axes>"
            ]
          },
          "metadata": {
            "tags": [],
            "needs_background": "light"
          }
        }
      ]
    },
    {
      "cell_type": "markdown",
      "metadata": {
        "id": "WRUPMwlEwNc1"
      },
      "source": [
        "## Model Selection"
      ]
    },
    {
      "cell_type": "markdown",
      "metadata": {
        "id": "oSYA4jWtdx8U"
      },
      "source": [
        "##Selecting an estimator \n"
      ]
    },
    {
      "cell_type": "code",
      "metadata": {
        "id": "pe1DMFum1-3j"
      },
      "source": [
        "model_names = []\n",
        "models = []\n",
        "\n",
        "X_train_pca = pca.transform(X_train)\n",
        "X_validation_pca = pca.transform(X_validation)\n",
        "X_test_pca = pca.transform(X_test)"
      ],
      "execution_count": 13,
      "outputs": []
    },
    {
      "cell_type": "markdown",
      "metadata": {
        "id": "XMi1CooxuD1P"
      },
      "source": [
        "#### SVR"
      ]
    },
    {
      "cell_type": "code",
      "metadata": {
        "id": "R-eZcZHgd0Zg"
      },
      "source": [
        "kernel_list = ['rbf', 'poly', 'linear', 'sigmoid']\n",
        "\n",
        "for k in kernel_list:\n",
        "  models.append(sklearn.svm.SVR(kernel=k, epsilon=1).fit(X_train_pca, y_train))\n",
        "  model_names.append('SVR ' + k)"
      ],
      "execution_count": 14,
      "outputs": []
    },
    {
      "cell_type": "markdown",
      "metadata": {
        "id": "ncNsSOPIKpek"
      },
      "source": [
        "#### Kernel Ridge"
      ]
    },
    {
      "cell_type": "code",
      "metadata": {
        "id": "FyPsoUY6h8Fk",
        "colab": {
          "base_uri": "https://localhost:8080/"
        },
        "outputId": "659ccc16-ac73-4d4b-98a4-86ea7bb6501b"
      },
      "source": [
        "kernel_list.append('laplacian')\n",
        "\n",
        "for k in kernel_list:\n",
        "  models.append(sklearn.kernel_ridge.KernelRidge(kernel=k).fit(X_train_pca, y_train))\n",
        "  model_names.append('Kernel Ridge ' + k)\n"
      ],
      "execution_count": 15,
      "outputs": [
        {
          "output_type": "stream",
          "text": [
            "/usr/local/lib/python3.6/dist-packages/sklearn/linear_model/_ridge.py:190: UserWarning: Singular matrix in solving dual problem. Using least-squares solution instead.\n",
            "  warnings.warn(\"Singular matrix in solving dual problem. Using \"\n"
          ],
          "name": "stderr"
        }
      ]
    },
    {
      "cell_type": "markdown",
      "metadata": {
        "id": "-ixENRwSLRPX"
      },
      "source": [
        "#### Decision Tree Regressor"
      ]
    },
    {
      "cell_type": "code",
      "metadata": {
        "id": "uh7G8CpWkyMe"
      },
      "source": [
        "criteria=['mae','mse']\n",
        "\n",
        "for c in criteria:\n",
        "  models.append(sklearn.tree.DecisionTreeRegressor(criterion=c, random_state=random_state).fit(X_train_pca, y_train))\n",
        "  model_names.append('DTree ' + c)"
      ],
      "execution_count": 16,
      "outputs": []
    },
    {
      "cell_type": "markdown",
      "metadata": {
        "id": "H7f9i5iLPMs5"
      },
      "source": [
        "#### Random Forest"
      ]
    },
    {
      "cell_type": "code",
      "metadata": {
        "id": "6tYqL4yXPMZ8"
      },
      "source": [
        "for c in criteria:\n",
        "  models.append(sklearn.ensemble.RandomForestRegressor(criterion=c, random_state=random_state).fit(X_train_pca, y_train))\n",
        "  model_names.append('RForest ' + c)"
      ],
      "execution_count": null,
      "outputs": []
    },
    {
      "cell_type": "markdown",
      "metadata": {
        "id": "bs-16WVrMpnt"
      },
      "source": [
        "#### MLP"
      ]
    },
    {
      "cell_type": "code",
      "metadata": {
        "id": "BhfBtmFrmq1Q"
      },
      "source": [
        "activate=['logistic', 'tanh', 'relu']\n",
        "\n",
        "for a in activate:\n",
        "  models.append(sklearn.neural_network.MLPRegressor(max_iter=2000, hidden_layer_sizes=(128), activation=a, random_state=random_state).fit(X_train_pca, y_train))\n",
        "  model_names.append('sklearn MLP ' + a)"
      ],
      "execution_count": null,
      "outputs": []
    },
    {
      "cell_type": "markdown",
      "metadata": {
        "id": "y78Qn73173Ma"
      },
      "source": [
        "#### Compute scores"
      ]
    },
    {
      "cell_type": "code",
      "metadata": {
        "id": "IfwLjQ9X349h"
      },
      "source": [
        "scores, bests = get_scores(models, model_names)"
      ],
      "execution_count": null,
      "outputs": []
    },
    {
      "cell_type": "code",
      "metadata": {
        "id": "aA89aVsfbbxT"
      },
      "source": [
        "bests_df = pd.DataFrame(bests, index=scoring_titles, columns=('Estimator', 'Score'))\n",
        "bests_df"
      ],
      "execution_count": null,
      "outputs": []
    },
    {
      "cell_type": "code",
      "metadata": {
        "id": "MwKpqZGSxZAM"
      },
      "source": [
        "scores_df = pd.DataFrame(scores, index = model_names, columns = scoring_methods)\n",
        "scores_df"
      ],
      "execution_count": null,
      "outputs": []
    },
    {
      "cell_type": "markdown",
      "metadata": {
        "id": "MzrIMMJa677L"
      },
      "source": [
        "### Neural Network with Custom Loss Function"
      ]
    },
    {
      "cell_type": "code",
      "metadata": {
        "id": "NXpoBnkIeaVe"
      },
      "source": [
        "torch.manual_seed(random_state)\n",
        "class RegressionMLP(torch.nn.Module):\n",
        "  def __init__(self, n_features, n_hidden_layer):\n",
        "    super(RegressionMLP, self).__init__()\n",
        "    self.hidden = torch.nn.Linear(n_features, n_hidden_layer)\n",
        "    self.predict = torch.nn.Linear(n_hidden_layer, 1)\n",
        "  \n",
        "  def forward(self, x):\n",
        "    x = torch.tanh(self.hidden(x)).cuda()\n",
        "    x = self.predict(x).cuda()\n",
        "    return x"
      ],
      "execution_count": null,
      "outputs": []
    },
    {
      "cell_type": "code",
      "metadata": {
        "id": "BD_LvhLXwwbT"
      },
      "source": [
        "def customLoss(predictions, targets, targets_sd):\n",
        "  distances = torch.abs(predictions - targets).cuda()\n",
        "  not_within_one_sd = (distances > targets_sd).cuda()\n",
        "  transform = (1**(not_within_one_sd * 10)).cuda()\n",
        "  distances *= transform.cuda()\n",
        "\n",
        "  return torch.sum(distances) / len(predictions) "
      ],
      "execution_count": null,
      "outputs": []
    },
    {
      "cell_type": "code",
      "metadata": {
        "id": "fsaRxCtmKAvb"
      },
      "source": [
        "def customLoss2(predictions, targets, targets_sd):\n",
        "  distances = torch.abs(predictions - targets).cuda()\n",
        "  not_within_one_sd = (distances > targets_sd).cuda()\n",
        "  transform = (1**(not_within_one_sd * 10)).cuda()\n",
        "  distances *= transform.cuda()\n",
        "  distances @= distances.T\n",
        "\n",
        "  return 1/2 * torch.sum(distances) / len(predictions) "
      ],
      "execution_count": null,
      "outputs": []
    },
    {
      "cell_type": "code",
      "metadata": {
        "id": "rFjRu_LuhfvZ"
      },
      "source": [
        "model = RegressionMLP(n_pca_components, 128).cuda()\n",
        "optimizer = torch.optim.SGD(model.parameters(), lr=0.001)\n",
        "loss_func = customLoss\n",
        "model.train()\n",
        "inputs = torch.from_numpy(X_train_pca).cuda()\n",
        "training_targets = torch.from_numpy(y_train)\n",
        "training_targets = training_targets.view(-1, 1).cuda()\n",
        "trainig_targets_sd = torch.from_numpy(y_train_SD)\n",
        "training_targets_sd = training_targets_sd.view(-1, 1).cuda()\n",
        "\n",
        "validation_inputs = torch.from_numpy(X_validation_pca).cuda()\n",
        "validation_targets = torch.from_numpy(y_validation)\n",
        "validation_targets = validation_targets.view(-1, 1).cuda()\n",
        "validation_targets_sd = torch.from_numpy(y_validation_SD)\n",
        "validation_targets_sd = validation_targets_sd.view(-1, 1).cuda()"
      ],
      "execution_count": null,
      "outputs": []
    },
    {
      "cell_type": "code",
      "metadata": {
        "id": "xbKXoGefgxA4"
      },
      "source": [
        "n_epochs = 7000\n",
        "training_loss = [None] * n_epochs\n",
        "validation_loss = [None] * n_epochs\n",
        "\n",
        "tic = time.perf_counter()\n",
        "for i in range(n_epochs):\n",
        "  predictions = model(inputs)\n",
        "  optimizer.zero_grad()\n",
        "  loss = loss_func(predictions, targets, targets_sd)\n",
        "  loss.backward()\n",
        "  training_loss[i] = loss.item()\n",
        "  val = loss_func(model(validation_inputs), validation_targets, validation_targets_sd)\n",
        "  validation_loss[i] = val.item()\n",
        "  optimizer.step()\n",
        "print(f'time: {time.perf_counter() - tic}')"
      ],
      "execution_count": null,
      "outputs": []
    },
    {
      "cell_type": "code",
      "metadata": {
        "id": "ki5L9GY3Bgai"
      },
      "source": [
        "model.eval()\n",
        "training_predictions = model(torch.from_numpy(X_train_pca).cuda())\n",
        "training_predictions = training_predictions.cpu().detach().numpy()\n",
        "\n",
        "validation_predictions = model(torch.from_numpy(X_validation_pca).cuda())\n",
        "validation_predictions = validation_predictions.cpu().detach().numpy()"
      ],
      "execution_count": null,
      "outputs": []
    },
    {
      "cell_type": "code",
      "metadata": {
        "id": "KiffaJjP9HWo"
      },
      "source": [
        "x = np.linspace(0, n_epochs, n_epochs)\n",
        "plt.figure(figsize=(20,10))\n",
        "plt.plot(x, training_loss, label='training loss')\n",
        "plt.plot(x, testing_loss, label='validation loss')\n",
        "best_epoch = np.array(validation_loss).argmin()\n",
        "best_epoch_loss = validation_loss[best_epoch]\n",
        "plt.scatter(best_epoch, best_epoch_loss, marker='x', c='r')\n",
        "plt.text(best_epoch, best_epoch_loss + 0.1, s=f'best epoch: {best_epoch}')\n",
        "plt.legend();"
      ],
      "execution_count": null,
      "outputs": []
    },
    {
      "cell_type": "code",
      "metadata": {
        "id": "Xy89f9aKoFWV"
      },
      "source": [
        "n_epochs = best_epoch + 1\n",
        "model.train()\n",
        "tic = time.perf_counter()\n",
        "for i in range(n_epochs):\n",
        "  predictions = model(inputs)\n",
        "  optimizer.zero_grad()\n",
        "  loss = loss_func(predictions, targets, targets_sd)\n",
        "  loss.backward()\n",
        "  optimizer.step()\n",
        "print(f'time: {time.perf_counter() - tic}')"
      ],
      "execution_count": null,
      "outputs": []
    },
    {
      "cell_type": "code",
      "metadata": {
        "id": "s9segbo-ofgZ"
      },
      "source": [
        "model.eval()\n",
        "training_predictions = model(torch.from_numpy(X_train_pca).cuda())\n",
        "training_predictions = training_predictions.cpu().detach().numpy().reshape(-1)\n",
        "\n",
        "validation_predictions = model(torch.from_numpy(X_validation_pca).cuda())\n",
        "validation_predictions = testing_predictions.cpu().detach().numpy().reshape(-1)\n",
        "\n",
        "testing_predictions = model(torch.from_numpy(X_test_pca).cuda())\n",
        "testing_predictions = testing_predictions2.cpu().detach().numpy().reshape(-1)"
      ],
      "execution_count": null,
      "outputs": []
    },
    {
      "cell_type": "code",
      "metadata": {
        "id": "CN_8010in4Gd"
      },
      "source": [
        "print('Custom Score Train-Validation-Testing')\n",
        "print(score_within_sd(training_predictions, y_train, y_train_SD))\n",
        "print(score_within_sd(validation_predictions, y_validation, y_validation_SD))\n",
        "print(score_within_sd(testing_predictions, y_test, y_test_SD))\n",
        "\n",
        "print('MAE Score Train-Validation-Testing')\n",
        "print(sklearn.metrics.mean_absolute_error(training_predictions, y_train))\n",
        "print(sklearn.metrics.mean_absolute_error(validation_predictions, y_validation))\n",
        "print(sklearn.metrics.mean_absolute_error(testing_predictions, y_test))\n",
        "\n",
        "print('MSE Score Train-Validation-Testing')\n",
        "print(sklearn.metrics.mean_squared_error(training_predictions, y_train))\n",
        "print(sklearn.metrics.mean_squared_error(validation_predictions, y_validation))\n",
        "print(sklearn.metrics.mean_squared_error(testing_predictions, y_test))\n",
        "\n",
        "print('R2 Score Train-Validation-Testing')\n",
        "print(sklearn.metrics.r2_score(training_predictions, y_train))\n",
        "print(sklearn.metrics.r2_score(validation_predictions, y_validation))\n",
        "print(sklearn.metrics.r2_score(testing_predictions, y_test))"
      ],
      "execution_count": null,
      "outputs": []
    }
  ]
}